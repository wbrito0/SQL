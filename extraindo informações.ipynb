{
    "metadata": {
        "kernelspec": {
            "name": "SQL",
            "display_name": "SQL",
            "language": "sql"
        },
        "language_info": {
            "name": "sql",
            "version": ""
        }
    },
    "nbformat_minor": 2,
    "nbformat": 4,
    "cells": [
        {
            "cell_type": "code",
            "source": [
                "--nesse documento vamos tirar informações do relatorio de vendas\r\n",
                "USE Distribuidora\r\n",
                "-- Vamos responder perguntas:\r\n",
                "-- Quais são os top, produtos lojas em quantidade de venda\r\n",
                "-- Quais são os top, produtos lojas em valor arrecadado\r\n",
                "select top(5) * from Distribuidora.dbo.relatorio_vendas"
            ],
            "metadata": {
                "azdata_cell_guid": "aa84c673-1807-4062-8015-13145d78270e",
                "language": "sql",
                "tags": []
            },
            "outputs": [
                {
                    "output_type": "display_data",
                    "data": {
                        "text/html": "(5 rows affected)"
                    },
                    "metadata": {}
                },
                {
                    "output_type": "display_data",
                    "data": {
                        "text/html": "Total execution time: 00:00:00.081"
                    },
                    "metadata": {}
                },
                {
                    "output_type": "execute_result",
                    "metadata": {},
                    "execution_count": 1,
                    "data": {
                        "application/vnd.dataresource+json": {
                            "schema": {
                                "fields": [
                                    {
                                        "name": "id"
                                    },
                                    {
                                        "name": "data"
                                    },
                                    {
                                        "name": "loja"
                                    },
                                    {
                                        "name": "produto"
                                    },
                                    {
                                        "name": "quantidade"
                                    },
                                    {
                                        "name": "valor_uni"
                                    }
                                ]
                            },
                            "data": [
                                {
                                    "id": "1",
                                    "data": "2022-05-18",
                                    "loja": "Maranhão",
                                    "produto": "Caixa de som",
                                    "quantidade": "4",
                                    "valor_uni": "79,00"
                                },
                                {
                                    "id": "2",
                                    "data": "2022-07-24",
                                    "loja": "Santa Catarina",
                                    "produto": "Notebook",
                                    "quantidade": "9",
                                    "valor_uni": "3789,00"
                                },
                                {
                                    "id": "3",
                                    "data": "2022-12-20",
                                    "loja": "Rio de Janeiro",
                                    "produto": "Notebook",
                                    "quantidade": "3",
                                    "valor_uni": "3789,00"
                                },
                                {
                                    "id": "4",
                                    "data": "2022-01-22",
                                    "loja": "Espírito Santo",
                                    "produto": "Nobreak",
                                    "quantidade": "9",
                                    "valor_uni": "1279,00"
                                },
                                {
                                    "id": "5",
                                    "data": "2022-09-11",
                                    "loja": "Tocantins",
                                    "produto": "Impressora",
                                    "quantidade": "9",
                                    "valor_uni": "699,00"
                                }
                            ]
                        },
                        "text/html": [
                            "<table>",
                            "<tr><th>id</th><th>data</th><th>loja</th><th>produto</th><th>quantidade</th><th>valor_uni</th></tr>",
                            "<tr><td>1</td><td>2022-05-18</td><td>Maranhão</td><td>Caixa de som</td><td>4</td><td>79,00</td></tr>",
                            "<tr><td>2</td><td>2022-07-24</td><td>Santa Catarina</td><td>Notebook</td><td>9</td><td>3789,00</td></tr>",
                            "<tr><td>3</td><td>2022-12-20</td><td>Rio de Janeiro</td><td>Notebook</td><td>3</td><td>3789,00</td></tr>",
                            "<tr><td>4</td><td>2022-01-22</td><td>Espírito Santo</td><td>Nobreak</td><td>9</td><td>1279,00</td></tr>",
                            "<tr><td>5</td><td>2022-09-11</td><td>Tocantins</td><td>Impressora</td><td>9</td><td>699,00</td></tr>",
                            "</table>"
                        ]
                    }
                }
            ],
            "execution_count": 1
        },
        {
            "cell_type": "markdown",
            "source": [
                "Agora vamos listas os produtos mais vendidos"
            ],
            "metadata": {
                "language": "sql",
                "azdata_cell_guid": "4c4e110f-2c6d-4cd8-9cad-1891e994efd7"
            },
            "attachments": {}
        },
        {
            "cell_type": "code",
            "source": [
                "\r\n",
                "select top(5) produto, sum(quantidade) as 'quantidade vendida', valor_uni, sum(quantidade*valor_uni) as 'total arrecadado'\r\n",
                "from relatorio_vendas\r\n",
                "group by produto, valor_uni\r\n",
                "order by [total arrecadado] DESC"
            ],
            "metadata": {
                "azdata_cell_guid": "381dbbde-05f4-4383-9488-f1f7299b7857",
                "language": "sql"
            },
            "outputs": [
                {
                    "output_type": "display_data",
                    "data": {
                        "text/html": "(5 rows affected)"
                    },
                    "metadata": {}
                },
                {
                    "output_type": "display_data",
                    "data": {
                        "text/html": "Total execution time: 00:00:00.018"
                    },
                    "metadata": {}
                },
                {
                    "output_type": "execute_result",
                    "metadata": {},
                    "execution_count": 15,
                    "data": {
                        "application/vnd.dataresource+json": {
                            "schema": {
                                "fields": [
                                    {
                                        "name": "produto"
                                    },
                                    {
                                        "name": "quantidade vendida"
                                    },
                                    {
                                        "name": "valor_uni"
                                    },
                                    {
                                        "name": "total arrecadado"
                                    }
                                ]
                            },
                            "data": [
                                {
                                    "produto": "Notebook",
                                    "quantidade vendida": "12929",
                                    "valor_uni": "3789,00",
                                    "total arrecadado": "48987981,00"
                                },
                                {
                                    "produto": "PC",
                                    "quantidade vendida": "6518",
                                    "valor_uni": "5900,00",
                                    "total arrecadado": "38456200,00"
                                },
                                {
                                    "produto": "Monitor",
                                    "quantidade vendida": "9923",
                                    "valor_uni": "1200,00",
                                    "total arrecadado": "11907600,00"
                                },
                                {
                                    "produto": "Impressora",
                                    "quantidade vendida": "13273",
                                    "valor_uni": "699,00",
                                    "total arrecadado": "9277827,00"
                                },
                                {
                                    "produto": "Tablet",
                                    "quantidade vendida": "6684",
                                    "valor_uni": "1349,00",
                                    "total arrecadado": "9016716,00"
                                }
                            ]
                        },
                        "text/html": [
                            "<table>",
                            "<tr><th>produto</th><th>quantidade vendida</th><th>valor_uni</th><th>total arrecadado</th></tr>",
                            "<tr><td>Notebook</td><td>12929</td><td>3789,00</td><td>48987981,00</td></tr>",
                            "<tr><td>PC</td><td>6518</td><td>5900,00</td><td>38456200,00</td></tr>",
                            "<tr><td>Monitor</td><td>9923</td><td>1200,00</td><td>11907600,00</td></tr>",
                            "<tr><td>Impressora</td><td>13273</td><td>699,00</td><td>9277827,00</td></tr>",
                            "<tr><td>Tablet</td><td>6684</td><td>1349,00</td><td>9016716,00</td></tr>",
                            "</table>"
                        ]
                    }
                }
            ],
            "execution_count": 15
        },
        {
            "cell_type": "markdown",
            "source": [
                "agora que sabemos que o carro chefe em lucro é o Notebook. Precisamos saber qual é a loja que mais vende"
            ],
            "metadata": {
                "language": "",
                "azdata_cell_guid": "67614284-1484-4284-828f-bf376512fa66"
            },
            "attachments": {}
        },
        {
            "cell_type": "code",
            "source": [
                "select top(5) loja, sum(quantidade) as 'quantidade vendida', sum(quantidade * valor_uni) as 'caixa'\r\n",
                "from relatorio_vendas\r\n",
                "group by loja\r\n",
                "order by caixa DESC"
            ],
            "metadata": {
                "language": "sql",
                "azdata_cell_guid": "7da29ce6-b3c6-4ba8-b411-8afc93d8c2c8"
            },
            "outputs": [
                {
                    "output_type": "display_data",
                    "data": {
                        "text/html": "(5 rows affected)"
                    },
                    "metadata": {}
                },
                {
                    "output_type": "display_data",
                    "data": {
                        "text/html": "Total execution time: 00:00:00.018"
                    },
                    "metadata": {}
                },
                {
                    "output_type": "execute_result",
                    "metadata": {},
                    "execution_count": 20,
                    "data": {
                        "application/vnd.dataresource+json": {
                            "schema": {
                                "fields": [
                                    {
                                        "name": "loja"
                                    },
                                    {
                                        "name": "quantidade vendida"
                                    },
                                    {
                                        "name": "caixa"
                                    }
                                ]
                            },
                            "data": [
                                {
                                    "loja": "São Paulo",
                                    "quantidade vendida": "26083",
                                    "caixa": "41011869,00"
                                },
                                {
                                    "loja": "Rio de Janeiro",
                                    "quantidade vendida": "7845",
                                    "caixa": "12273811,00"
                                },
                                {
                                    "loja": "Minas Gerais",
                                    "quantidade vendida": "7681",
                                    "caixa": "11485425,00"
                                },
                                {
                                    "loja": "Paraná",
                                    "quantidade vendida": "4844",
                                    "caixa": "7611645,00"
                                },
                                {
                                    "loja": "Pernambuco",
                                    "quantidade vendida": "4266",
                                    "caixa": "7041123,00"
                                }
                            ]
                        },
                        "text/html": [
                            "<table>",
                            "<tr><th>loja</th><th>quantidade vendida</th><th>caixa</th></tr>",
                            "<tr><td>São Paulo</td><td>26083</td><td>41011869,00</td></tr>",
                            "<tr><td>Rio de Janeiro</td><td>7845</td><td>12273811,00</td></tr>",
                            "<tr><td>Minas Gerais</td><td>7681</td><td>11485425,00</td></tr>",
                            "<tr><td>Paraná</td><td>4844</td><td>7611645,00</td></tr>",
                            "<tr><td>Pernambuco</td><td>4266</td><td>7041123,00</td></tr>",
                            "</table>"
                        ]
                    }
                }
            ],
            "execution_count": 20
        },
        {
            "cell_type": "markdown",
            "source": [
                "Vamos ver detalhadamente como estão as vendas na filial em São Paulo"
            ],
            "metadata": {
                "language": "sql",
                "azdata_cell_guid": "637c9797-df2f-4a14-90ba-0f161e710337"
            },
            "attachments": {}
        },
        {
            "cell_type": "code",
            "source": [
                "select top(5) loja, Produto, sum(quantidade) as 'quantidade vendida', sum(quantidade * valor_uni) as 'caixa'\r\n",
                "from relatorio_vendas\r\n",
                "WHERE loja = 'São Paulo'\r\n",
                "group by loja, Produto\r\n",
                "order by [caixa] DESC"
            ],
            "metadata": {
                "language": "sql",
                "azdata_cell_guid": "1e169acb-1d98-4ebd-8765-05304faf7fa0"
            },
            "outputs": [
                {
                    "output_type": "display_data",
                    "data": {
                        "text/html": "(5 rows affected)"
                    },
                    "metadata": {}
                },
                {
                    "output_type": "display_data",
                    "data": {
                        "text/html": "Total execution time: 00:00:00.016"
                    },
                    "metadata": {}
                },
                {
                    "output_type": "execute_result",
                    "metadata": {},
                    "execution_count": 25,
                    "data": {
                        "application/vnd.dataresource+json": {
                            "schema": {
                                "fields": [
                                    {
                                        "name": "loja"
                                    },
                                    {
                                        "name": "Produto"
                                    },
                                    {
                                        "name": "quantidade vendida"
                                    },
                                    {
                                        "name": "caixa"
                                    }
                                ]
                            },
                            "data": [
                                {
                                    "loja": "São Paulo",
                                    "Produto": "Notebook",
                                    "quantidade vendida": "4145",
                                    "caixa": "15705405,00"
                                },
                                {
                                    "loja": "São Paulo",
                                    "Produto": "PC",
                                    "quantidade vendida": "2034",
                                    "caixa": "12000600,00"
                                },
                                {
                                    "loja": "São Paulo",
                                    "Produto": "Monitor",
                                    "quantidade vendida": "2955",
                                    "caixa": "3546000,00"
                                },
                                {
                                    "loja": "São Paulo",
                                    "Produto": "Impressora",
                                    "quantidade vendida": "4464",
                                    "caixa": "3120336,00"
                                },
                                {
                                    "loja": "São Paulo",
                                    "Produto": "Nobreak",
                                    "quantidade vendida": "2282",
                                    "caixa": "2918678,00"
                                }
                            ]
                        },
                        "text/html": [
                            "<table>",
                            "<tr><th>loja</th><th>Produto</th><th>quantidade vendida</th><th>caixa</th></tr>",
                            "<tr><td>São Paulo</td><td>Notebook</td><td>4145</td><td>15705405,00</td></tr>",
                            "<tr><td>São Paulo</td><td>PC</td><td>2034</td><td>12000600,00</td></tr>",
                            "<tr><td>São Paulo</td><td>Monitor</td><td>2955</td><td>3546000,00</td></tr>",
                            "<tr><td>São Paulo</td><td>Impressora</td><td>4464</td><td>3120336,00</td></tr>",
                            "<tr><td>São Paulo</td><td>Nobreak</td><td>2282</td><td>2918678,00</td></tr>",
                            "</table>"
                        ]
                    }
                }
            ],
            "execution_count": 25
        },
        {
            "cell_type": "markdown",
            "source": [
                "Vamos comprar as vendas da filial em São Paulo mês a mês"
            ],
            "metadata": {
                "language": "",
                "azdata_cell_guid": "15fd01e2-c025-45d9-820a-204e49e0d0c5"
            },
            "attachments": {}
        },
        {
            "cell_type": "code",
            "source": [
                "--anteriormente, conseguimos padronizar a coluna 'data', então podemos ultulizar em como um parametro para seperar as informações\r\n",
                "SELECT loja, YEAR(data) AS ano, MONTH(data) AS mes, SUM(quantidade) AS 'quantidade de vendas', SUM(quantidade * valor_uni) AS 'caixa'\r\n",
                "FROM relatorio_vendas\r\n",
                "WHERE loja = 'São Paulo' \r\n",
                "    AND data BETWEEN '2022-01-01' AND '2022-12-31'\r\n",
                "GROUP BY loja, YEAR(data), MONTH(data)\r\n",
                "ORDER BY month(data);\r\n",
                ""
            ],
            "metadata": {
                "azdata_cell_guid": "06d8fcc5-b11b-44f6-99da-40f401de43e8",
                "language": "sql"
            },
            "outputs": [
                {
                    "output_type": "display_data",
                    "data": {
                        "text/html": "(12 rows affected)"
                    },
                    "metadata": {}
                },
                {
                    "output_type": "display_data",
                    "data": {
                        "text/html": "Total execution time: 00:00:00.020"
                    },
                    "metadata": {}
                },
                {
                    "output_type": "execute_result",
                    "metadata": {},
                    "execution_count": 34,
                    "data": {
                        "application/vnd.dataresource+json": {
                            "schema": {
                                "fields": [
                                    {
                                        "name": "loja"
                                    },
                                    {
                                        "name": "ano"
                                    },
                                    {
                                        "name": "mes"
                                    },
                                    {
                                        "name": "quantidade de vendas"
                                    },
                                    {
                                        "name": "caixa"
                                    }
                                ]
                            },
                            "data": [
                                {
                                    "loja": "São Paulo",
                                    "ano": "2022",
                                    "mes": "1",
                                    "quantidade de vendas": "2126",
                                    "caixa": "3131819,00"
                                },
                                {
                                    "loja": "São Paulo",
                                    "ano": "2022",
                                    "mes": "2",
                                    "quantidade de vendas": "2022",
                                    "caixa": "3469217,00"
                                },
                                {
                                    "loja": "São Paulo",
                                    "ano": "2022",
                                    "mes": "3",
                                    "quantidade de vendas": "2269",
                                    "caixa": "3266060,00"
                                },
                                {
                                    "loja": "São Paulo",
                                    "ano": "2022",
                                    "mes": "4",
                                    "quantidade de vendas": "2222",
                                    "caixa": "3451613,00"
                                },
                                {
                                    "loja": "São Paulo",
                                    "ano": "2022",
                                    "mes": "5",
                                    "quantidade de vendas": "2267",
                                    "caixa": "3536977,00"
                                },
                                {
                                    "loja": "São Paulo",
                                    "ano": "2022",
                                    "mes": "6",
                                    "quantidade de vendas": "2098",
                                    "caixa": "3449835,00"
                                },
                                {
                                    "loja": "São Paulo",
                                    "ano": "2022",
                                    "mes": "7",
                                    "quantidade de vendas": "2065",
                                    "caixa": "3016266,00"
                                },
                                {
                                    "loja": "São Paulo",
                                    "ano": "2022",
                                    "mes": "8",
                                    "quantidade de vendas": "2215",
                                    "caixa": "3630440,00"
                                },
                                {
                                    "loja": "São Paulo",
                                    "ano": "2022",
                                    "mes": "9",
                                    "quantidade de vendas": "2041",
                                    "caixa": "3035626,00"
                                },
                                {
                                    "loja": "São Paulo",
                                    "ano": "2022",
                                    "mes": "10",
                                    "quantidade de vendas": "2313",
                                    "caixa": "3914110,00"
                                },
                                {
                                    "loja": "São Paulo",
                                    "ano": "2022",
                                    "mes": "11",
                                    "quantidade de vendas": "2210",
                                    "caixa": "3457463,00"
                                },
                                {
                                    "loja": "São Paulo",
                                    "ano": "2022",
                                    "mes": "12",
                                    "quantidade de vendas": "2235",
                                    "caixa": "3652443,00"
                                }
                            ]
                        },
                        "text/html": [
                            "<table>",
                            "<tr><th>loja</th><th>ano</th><th>mes</th><th>quantidade de vendas</th><th>caixa</th></tr>",
                            "<tr><td>São Paulo</td><td>2022</td><td>1</td><td>2126</td><td>3131819,00</td></tr>",
                            "<tr><td>São Paulo</td><td>2022</td><td>2</td><td>2022</td><td>3469217,00</td></tr>",
                            "<tr><td>São Paulo</td><td>2022</td><td>3</td><td>2269</td><td>3266060,00</td></tr>",
                            "<tr><td>São Paulo</td><td>2022</td><td>4</td><td>2222</td><td>3451613,00</td></tr>",
                            "<tr><td>São Paulo</td><td>2022</td><td>5</td><td>2267</td><td>3536977,00</td></tr>",
                            "<tr><td>São Paulo</td><td>2022</td><td>6</td><td>2098</td><td>3449835,00</td></tr>",
                            "<tr><td>São Paulo</td><td>2022</td><td>7</td><td>2065</td><td>3016266,00</td></tr>",
                            "<tr><td>São Paulo</td><td>2022</td><td>8</td><td>2215</td><td>3630440,00</td></tr>",
                            "<tr><td>São Paulo</td><td>2022</td><td>9</td><td>2041</td><td>3035626,00</td></tr>",
                            "<tr><td>São Paulo</td><td>2022</td><td>10</td><td>2313</td><td>3914110,00</td></tr>",
                            "<tr><td>São Paulo</td><td>2022</td><td>11</td><td>2210</td><td>3457463,00</td></tr>",
                            "<tr><td>São Paulo</td><td>2022</td><td>12</td><td>2235</td><td>3652443,00</td></tr>",
                            "</table>"
                        ]
                    }
                }
            ],
            "execution_count": 34
        },
        {
            "cell_type": "markdown",
            "source": [
                "podemos notar uma Equidade nos dados, mas um ligeiro aumento no mes de outubro  \n",
                "vamos ver qual produto causou esse aumento"
            ],
            "metadata": {
                "language": "sql",
                "azdata_cell_guid": "aae55f89-0409-4096-959b-8be1d6d18a2d"
            },
            "attachments": {}
        },
        {
            "cell_type": "code",
            "source": [
                "SELECT loja, MONTH(data) AS mes, produto, SUM(quantidade) AS 'quantidade de vendas', SUM(quantidade * valor_uni) AS 'caixa'\r\n",
                "FROM relatorio_vendas\r\n",
                "WHERE loja = 'São Paulo' \r\n",
                "    AND data BETWEEN '2022-10-01' AND '2022-10-30'\r\n",
                "GROUP BY loja, produto, MONTH(data)\r\n",
                "ORDER BY [quantidade de vendas] DESC;"
            ],
            "metadata": {
                "language": "sql",
                "azdata_cell_guid": "fe8ea38e-5993-4081-8bc3-8d142ebc4284"
            },
            "outputs": [
                {
                    "output_type": "display_data",
                    "data": {
                        "text/html": "(10 rows affected)"
                    },
                    "metadata": {}
                },
                {
                    "output_type": "display_data",
                    "data": {
                        "text/html": "Total execution time: 00:00:00.016"
                    },
                    "metadata": {}
                },
                {
                    "output_type": "execute_result",
                    "metadata": {},
                    "execution_count": 47,
                    "data": {
                        "application/vnd.dataresource+json": {
                            "schema": {
                                "fields": [
                                    {
                                        "name": "loja"
                                    },
                                    {
                                        "name": "mes"
                                    },
                                    {
                                        "name": "produto"
                                    },
                                    {
                                        "name": "quantidade de vendas"
                                    },
                                    {
                                        "name": "caixa"
                                    }
                                ]
                            },
                            "data": [
                                {
                                    "loja": "São Paulo",
                                    "mes": "10",
                                    "produto": "Notebook",
                                    "quantidade de vendas": "442",
                                    "caixa": "1674738,00"
                                },
                                {
                                    "loja": "São Paulo",
                                    "mes": "10",
                                    "produto": "Impressora",
                                    "quantidade de vendas": "415",
                                    "caixa": "290085,00"
                                },
                                {
                                    "loja": "São Paulo",
                                    "mes": "10",
                                    "produto": "Monitor",
                                    "quantidade de vendas": "246",
                                    "caixa": "295200,00"
                                },
                                {
                                    "loja": "São Paulo",
                                    "mes": "10",
                                    "produto": "Nobreak",
                                    "quantidade de vendas": "209",
                                    "caixa": "267311,00"
                                },
                                {
                                    "loja": "São Paulo",
                                    "mes": "10",
                                    "produto": "Webcam",
                                    "quantidade de vendas": "180",
                                    "caixa": "27000,00"
                                },
                                {
                                    "loja": "São Paulo",
                                    "mes": "10",
                                    "produto": "PC",
                                    "quantidade de vendas": "170",
                                    "caixa": "1003000,00"
                                },
                                {
                                    "loja": "São Paulo",
                                    "mes": "10",
                                    "produto": "Teclado",
                                    "quantidade de vendas": "160",
                                    "caixa": "28800,00"
                                },
                                {
                                    "loja": "São Paulo",
                                    "mes": "10",
                                    "produto": "Caixa de som",
                                    "quantidade de vendas": "150",
                                    "caixa": "11850,00"
                                },
                                {
                                    "loja": "São Paulo",
                                    "mes": "10",
                                    "produto": "Mouse",
                                    "quantidade de vendas": "149",
                                    "caixa": "16688,00"
                                },
                                {
                                    "loja": "São Paulo",
                                    "mes": "10",
                                    "produto": "Tablet",
                                    "quantidade de vendas": "125",
                                    "caixa": "168625,00"
                                }
                            ]
                        },
                        "text/html": [
                            "<table>",
                            "<tr><th>loja</th><th>mes</th><th>produto</th><th>quantidade de vendas</th><th>caixa</th></tr>",
                            "<tr><td>São Paulo</td><td>10</td><td>Notebook</td><td>442</td><td>1674738,00</td></tr>",
                            "<tr><td>São Paulo</td><td>10</td><td>Impressora</td><td>415</td><td>290085,00</td></tr>",
                            "<tr><td>São Paulo</td><td>10</td><td>Monitor</td><td>246</td><td>295200,00</td></tr>",
                            "<tr><td>São Paulo</td><td>10</td><td>Nobreak</td><td>209</td><td>267311,00</td></tr>",
                            "<tr><td>São Paulo</td><td>10</td><td>Webcam</td><td>180</td><td>27000,00</td></tr>",
                            "<tr><td>São Paulo</td><td>10</td><td>PC</td><td>170</td><td>1003000,00</td></tr>",
                            "<tr><td>São Paulo</td><td>10</td><td>Teclado</td><td>160</td><td>28800,00</td></tr>",
                            "<tr><td>São Paulo</td><td>10</td><td>Caixa de som</td><td>150</td><td>11850,00</td></tr>",
                            "<tr><td>São Paulo</td><td>10</td><td>Mouse</td><td>149</td><td>16688,00</td></tr>",
                            "<tr><td>São Paulo</td><td>10</td><td>Tablet</td><td>125</td><td>168625,00</td></tr>",
                            "</table>"
                        ]
                    }
                }
            ],
            "execution_count": 47
        },
        {
            "cell_type": "markdown",
            "source": [
                "Notamos PC e Notebook agregando muito saldo em caixa. otimos indicadores das capanhas de marketing da empresa no mês das crianças"
            ],
            "metadata": {
                "language": "sql",
                "azdata_cell_guid": "1bfe22af-0010-4817-afb5-af48a8a67a69"
            },
            "attachments": {}
        }
    ]
}