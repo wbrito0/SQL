{
    "metadata": {
        "kernelspec": {
            "name": "SQL",
            "display_name": "SQL",
            "language": "sql"
        },
        "language_info": {
            "name": "sql",
            "version": ""
        }
    },
    "nbformat_minor": 2,
    "nbformat": 4,
    "cells": [
        {
            "cell_type": "markdown",
            "source": [
                "1 Crie um banco de dados e a tabela abaixo, insira os valores apresentados e em seguida \n",
                "\n",
                "escreva as consultas solicitadas abaixo."
            ],
            "metadata": {
                "language": "sql",
                "azdata_cell_guid": "4abdc401-7385-4800-a726-7e353a752b56"
            },
            "attachments": {}
        },
        {
            "cell_type": "code",
            "source": [
                "CREATE DATABASE ATIVIDADE"
            ],
            "metadata": {
                "azdata_cell_guid": "17e0ba09-5518-40bf-8c60-f6a02ab4d2e6",
                "language": "sql"
            },
            "outputs": [],
            "execution_count": null
        },
        {
            "cell_type": "code",
            "source": [
                "USE atividade"
            ],
            "metadata": {
                "azdata_cell_guid": "432ff09e-429c-4f84-b12b-8426f3005bfd",
                "language": "sql"
            },
            "outputs": [],
            "execution_count": null
        },
        {
            "cell_type": "code",
            "source": [
                "drop TABLE atividade.dbo.vendas"
            ],
            "metadata": {
                "language": "sql",
                "azdata_cell_guid": "dde5546c-20e9-45f4-b691-2cc43fd9b7b3"
            },
            "outputs": [
                {
                    "output_type": "display_data",
                    "data": {
                        "text/html": "Commands completed successfully."
                    },
                    "metadata": {}
                },
                {
                    "output_type": "display_data",
                    "data": {
                        "text/html": "Total execution time: 00:00:00.003"
                    },
                    "metadata": {}
                }
            ],
            "execution_count": 36
        },
        {
            "cell_type": "markdown",
            "source": [
                "Criando tabela."
            ],
            "metadata": {
                "language": "sql",
                "azdata_cell_guid": "b938d7e7-bfe5-44cf-bf67-f07ec9cb501c"
            },
            "attachments": {}
        },
        {
            "cell_type": "code",
            "source": [
                "CREATE TABLE Vendas(\n",
                "\t id_nf int not null\n",
                "\t,id_item int not null\n",
                "\t,cod_prod\tint not null\n",
                "\t,valor_unit\tmoney check( valor_unit > 0 )\n",
                "\t,quantidade\ttinyint check (quantidade > 0)\n",
                "\t,desconto\tsmallmoney\tdefault 0.00\n",
                ")"
            ],
            "metadata": {
                "azdata_cell_guid": "4c60c498-3875-4bb7-86df-788f6ed9c5e4",
                "language": "sql"
            },
            "outputs": [
                {
                    "output_type": "display_data",
                    "data": {
                        "text/html": "Commands completed successfully."
                    },
                    "metadata": {}
                },
                {
                    "output_type": "display_data",
                    "data": {
                        "text/html": "Total execution time: 00:00:00.003"
                    },
                    "metadata": {}
                }
            ],
            "execution_count": 37
        },
        {
            "cell_type": "markdown",
            "source": [
                "Realizando Bulk Insert de dados na tabela."
            ],
            "metadata": {
                "language": "sql",
                "azdata_cell_guid": "375c48cf-2b6d-4c84-902b-c4edcdb38857"
            },
            "attachments": {}
        },
        {
            "cell_type": "code",
            "source": [
                "begin transaction\n",
                "BULK INSERT Vendas\n",
                "from 'C:\\Users\\PAI\\Documents\\SQL Server Management Studio\\Atividade\\vendas.csv'\n",
                "with( FIELDTERMINATOR = ',', ROWTERMINATOR = '\\n', FIRSTROW = 2 )\n",
                "commit"
            ],
            "metadata": {
                "azdata_cell_guid": "f484d350-7239-4092-afb2-d61054a5090c",
                "language": "sql"
            },
            "outputs": [
                {
                    "output_type": "display_data",
                    "data": {
                        "text/html": "(24 rows affected)"
                    },
                    "metadata": {}
                },
                {
                    "output_type": "display_data",
                    "data": {
                        "text/html": "Total execution time: 00:00:00.012"
                    },
                    "metadata": {}
                }
            ],
            "execution_count": 38
        },
        {
            "cell_type": "markdown",
            "source": [
                "a) Pesquise os itens que foram vendidos sem desconto. As colunas presentes no resultado da \n",
                "\n",
                "consulta são: ID\\_NF, ID\\_ITEM, COD\\_PROD E VALOR\\_UNIT."
            ],
            "metadata": {
                "language": "sql",
                "azdata_cell_guid": "5925c2ff-cd7f-4081-ac43-b736d3809dfb"
            },
            "attachments": {}
        },
        {
            "cell_type": "code",
            "source": [
                "select   id_nf\n",
                "        ,id_item\n",
                "        ,cod_prod\n",
                "        ,valor_unit\n",
                "from vendas\n",
                "where desconto = 0.00"
            ],
            "metadata": {
                "azdata_cell_guid": "21fab01e-d4e0-41ce-b169-d2ea8afd634b",
                "language": "sql"
            },
            "outputs": [
                {
                    "output_type": "display_data",
                    "data": {
                        "text/html": "(13 rows affected)"
                    },
                    "metadata": {}
                },
                {
                    "output_type": "display_data",
                    "data": {
                        "text/html": "Total execution time: 00:00:00.010"
                    },
                    "metadata": {}
                },
                {
                    "output_type": "execute_result",
                    "execution_count": 39,
                    "data": {
                        "application/vnd.dataresource+json": {
                            "schema": {
                                "fields": [
                                    {
                                        "name": "id_nf"
                                    },
                                    {
                                        "name": "id_item"
                                    },
                                    {
                                        "name": "cod_prod"
                                    },
                                    {
                                        "name": "valor_unit"
                                    }
                                ]
                            },
                            "data": [
                                {
                                    "id_nf": "1",
                                    "id_item": "2",
                                    "cod_prod": "2",
                                    "valor_unit": "13,50"
                                },
                                {
                                    "id_nf": "1",
                                    "id_item": "3",
                                    "cod_prod": "3",
                                    "valor_unit": "15,00"
                                },
                                {
                                    "id_nf": "1",
                                    "id_item": "4",
                                    "cod_prod": "4",
                                    "valor_unit": "10,00"
                                },
                                {
                                    "id_nf": "1",
                                    "id_item": "5",
                                    "cod_prod": "5",
                                    "valor_unit": "30,00"
                                },
                                {
                                    "id_nf": "2",
                                    "id_item": "1",
                                    "cod_prod": "3",
                                    "valor_unit": "15,00"
                                },
                                {
                                    "id_nf": "2",
                                    "id_item": "2",
                                    "cod_prod": "4",
                                    "valor_unit": "10,00"
                                },
                                {
                                    "id_nf": "2",
                                    "id_item": "3",
                                    "cod_prod": "5",
                                    "valor_unit": "30,00"
                                },
                                {
                                    "id_nf": "3",
                                    "id_item": "1",
                                    "cod_prod": "1",
                                    "valor_unit": "25,00"
                                },
                                {
                                    "id_nf": "3",
                                    "id_item": "2",
                                    "cod_prod": "4",
                                    "valor_unit": "10,00"
                                },
                                {
                                    "id_nf": "3",
                                    "id_item": "3",
                                    "cod_prod": "5",
                                    "valor_unit": "30,00"
                                },
                                {
                                    "id_nf": "3",
                                    "id_item": "4",
                                    "cod_prod": "2",
                                    "valor_unit": "13,50"
                                },
                                {
                                    "id_nf": "5",
                                    "id_item": "1",
                                    "cod_prod": "3",
                                    "valor_unit": "15,00"
                                },
                                {
                                    "id_nf": "5",
                                    "id_item": "2",
                                    "cod_prod": "5",
                                    "valor_unit": "30,00"
                                }
                            ]
                        },
                        "text/html": "<table><tr><th>id_nf</th><th>id_item</th><th>cod_prod</th><th>valor_unit</th></tr><tr><td>1</td><td>2</td><td>2</td><td>13,50</td></tr><tr><td>1</td><td>3</td><td>3</td><td>15,00</td></tr><tr><td>1</td><td>4</td><td>4</td><td>10,00</td></tr><tr><td>1</td><td>5</td><td>5</td><td>30,00</td></tr><tr><td>2</td><td>1</td><td>3</td><td>15,00</td></tr><tr><td>2</td><td>2</td><td>4</td><td>10,00</td></tr><tr><td>2</td><td>3</td><td>5</td><td>30,00</td></tr><tr><td>3</td><td>1</td><td>1</td><td>25,00</td></tr><tr><td>3</td><td>2</td><td>4</td><td>10,00</td></tr><tr><td>3</td><td>3</td><td>5</td><td>30,00</td></tr><tr><td>3</td><td>4</td><td>2</td><td>13,50</td></tr><tr><td>5</td><td>1</td><td>3</td><td>15,00</td></tr><tr><td>5</td><td>2</td><td>5</td><td>30,00</td></tr></table>"
                    },
                    "metadata": {}
                }
            ],
            "execution_count": 39
        },
        {
            "cell_type": "markdown",
            "source": [
                "b) Pesquise os itens que foram vendidos com desconto. As colunas presentes no resultado da \n",
                "\n",
                "consulta são: ID\\_NF, ID\\_ITEM, COD\\_PROD, VALOR\\_UNIT E O VALOR VENDIDO. OBS: O valor vendido \n",
                "\n",
                "é igual ao VALOR\\_UNIT - (VALOR\\_UNIT\\*(DESCONTO/100))."
            ],
            "metadata": {
                "language": "sql",
                "azdata_cell_guid": "bd455fbb-1f92-4304-94b4-ba420afba150"
            },
            "attachments": {}
        },
        {
            "cell_type": "code",
            "source": [
                "SELECT   ID_NF\r\n",
                "        ,ID_ITEM\r\n",
                "        ,COD_PROD\r\n",
                "        ,SUM(VALOR_UNIT - (VALOR_UNIT*(DESCONTO/100)))  AS 'VALOR VENDIDO'\r\n",
                "from atividade.dbo.vendas\r\n",
                "WHERE desconto > 0.00\r\n",
                "GROUP BY ID_NF\r\n",
                "        ,ID_ITEM\r\n",
                "        ,COD_PROD\r\n",
                "GO"
            ],
            "metadata": {
                "language": "sql",
                "azdata_cell_guid": "a88be4bc-957b-44b3-be65-62f56a1bbcb1"
            },
            "outputs": [
                {
                    "output_type": "display_data",
                    "data": {
                        "text/html": "(11 rows affected)"
                    },
                    "metadata": {}
                },
                {
                    "output_type": "display_data",
                    "data": {
                        "text/html": "Total execution time: 00:00:00.006"
                    },
                    "metadata": {}
                },
                {
                    "output_type": "execute_result",
                    "execution_count": 43,
                    "data": {
                        "application/vnd.dataresource+json": {
                            "schema": {
                                "fields": [
                                    {
                                        "name": "ID_NF"
                                    },
                                    {
                                        "name": "ID_ITEM"
                                    },
                                    {
                                        "name": "COD_PROD"
                                    },
                                    {
                                        "name": "VALOR VENDIDO"
                                    }
                                ]
                            },
                            "data": [
                                {
                                    "ID_NF": "1",
                                    "ID_ITEM": "1",
                                    "COD_PROD": "1",
                                    "VALOR VENDIDO": "23,75"
                                },
                                {
                                    "ID_NF": "4",
                                    "ID_ITEM": "1",
                                    "COD_PROD": "5",
                                    "VALOR VENDIDO": "25,50"
                                },
                                {
                                    "ID_NF": "4",
                                    "ID_ITEM": "2",
                                    "COD_PROD": "4",
                                    "VALOR VENDIDO": "9,50"
                                },
                                {
                                    "ID_NF": "4",
                                    "ID_ITEM": "3",
                                    "COD_PROD": "1",
                                    "VALOR VENDIDO": "23,75"
                                },
                                {
                                    "ID_NF": "4",
                                    "ID_ITEM": "4",
                                    "COD_PROD": "2",
                                    "VALOR VENDIDO": "12,825"
                                },
                                {
                                    "ID_NF": "6",
                                    "ID_ITEM": "1",
                                    "COD_PROD": "1",
                                    "VALOR VENDIDO": "21,25"
                                },
                                {
                                    "ID_NF": "6",
                                    "ID_ITEM": "2",
                                    "COD_PROD": "3",
                                    "VALOR VENDIDO": "12,00"
                                },
                                {
                                    "ID_NF": "7",
                                    "ID_ITEM": "1",
                                    "COD_PROD": "1",
                                    "VALOR VENDIDO": "24,25"
                                },
                                {
                                    "ID_NF": "7",
                                    "ID_ITEM": "2",
                                    "COD_PROD": "2",
                                    "VALOR VENDIDO": "12,96"
                                },
                                {
                                    "ID_NF": "7",
                                    "ID_ITEM": "3",
                                    "COD_PROD": "3",
                                    "VALOR VENDIDO": "14,40"
                                },
                                {
                                    "ID_NF": "7",
                                    "ID_ITEM": "4",
                                    "COD_PROD": "5",
                                    "VALOR VENDIDO": "29,70"
                                }
                            ]
                        },
                        "text/html": "<table><tr><th>ID_NF</th><th>ID_ITEM</th><th>COD_PROD</th><th>VALOR VENDIDO</th></tr><tr><td>1</td><td>1</td><td>1</td><td>23,75</td></tr><tr><td>4</td><td>1</td><td>5</td><td>25,50</td></tr><tr><td>4</td><td>2</td><td>4</td><td>9,50</td></tr><tr><td>4</td><td>3</td><td>1</td><td>23,75</td></tr><tr><td>4</td><td>4</td><td>2</td><td>12,825</td></tr><tr><td>6</td><td>1</td><td>1</td><td>21,25</td></tr><tr><td>6</td><td>2</td><td>3</td><td>12,00</td></tr><tr><td>7</td><td>1</td><td>1</td><td>24,25</td></tr><tr><td>7</td><td>2</td><td>2</td><td>12,96</td></tr><tr><td>7</td><td>3</td><td>3</td><td>14,40</td></tr><tr><td>7</td><td>4</td><td>5</td><td>29,70</td></tr></table>"
                    },
                    "metadata": {}
                }
            ],
            "execution_count": 43
        },
        {
            "cell_type": "markdown",
            "source": [
                "c) Altere o valor do desconto (para zero) de todos os registros onde este campo é nulo."
            ],
            "metadata": {
                "language": "sql",
                "azdata_cell_guid": "bb5d2f94-3398-42ef-bce6-88cf1d8d7e40"
            },
            "attachments": {}
        },
        {
            "cell_type": "markdown",
            "source": [
                "R: essa ação foi realizada de forma automatica ao criar a regra de valor padrão com a clausula Deafult().  \n",
                "Assim valor null foi transformado em 0.00 no momento da inserção."
            ],
            "metadata": {
                "language": "sql",
                "azdata_cell_guid": "44d90eb8-063b-4917-9801-728fbbfdc2d3"
            },
            "attachments": {}
        },
        {
            "cell_type": "markdown",
            "source": [
                "d) Pesquise os itens que foram vendidos. As colunas presentes no resultado da consulta são: ID\\_NF, \n",
                "\n",
                "ID\\_ITEM, COD\\_PROD, VALOR\\_UNIT, VALOR\\_TOTAL, DESCONTO, VALOR\\_VENDIDO. OBS: O \n",
                "\n",
                "VALOR\\_TOTAL é obƟ do pela fórmula: QUANTIDADE \\* VALOR\\_UNIT. O VALOR\\_VENDIDO é igual a \n",
                "\n",
                "VALOR\\_UNIT - (VALOR\\_UNIT\\*(DESCONTO/100))."
            ],
            "metadata": {
                "language": "sql",
                "azdata_cell_guid": "44d4a84e-1cbe-438b-9a8c-47b13ef6d896"
            },
            "attachments": {}
        },
        {
            "cell_type": "code",
            "source": [
                "SELECT   ID_NF\r\n",
                "        ,ID_ITEM\r\n",
                "        ,COD_PROD\r\n",
                "        ,VALOR_UNIT\r\n",
                "        ,sum(QUANTIDADE * VALOR_UNIT) AS 'VALOR TOTAL'\r\n",
                "        ,DESCONTO\r\n",
                "        ,SUM(VALOR_UNIT - (VALOR_UNIT*(DESCONTO/100))) AS 'VALOR VENDIDO'\r\n",
                "FROM atividade.dbo.vendas\r\n",
                "group by ID_NF\r\n",
                "        ,ID_ITEM\r\n",
                "        ,COD_PROD\r\n",
                "        ,VALOR_UNIT\r\n",
                "        ,DESCONTO\r\n",
                "ORDER BY sum(QUANTIDADE * VALOR_UNIT) DESC\r\n",
                "GO"
            ],
            "metadata": {
                "language": "sql",
                "azdata_cell_guid": "925d51b2-2179-4ad5-8628-e2c295406b14"
            },
            "outputs": [
                {
                    "output_type": "display_data",
                    "data": {
                        "text/html": "(24 rows affected)"
                    },
                    "metadata": {}
                },
                {
                    "output_type": "display_data",
                    "data": {
                        "text/html": "Total execution time: 00:00:00.006"
                    },
                    "metadata": {}
                },
                {
                    "output_type": "execute_result",
                    "execution_count": 47,
                    "data": {
                        "application/vnd.dataresource+json": {
                            "schema": {
                                "fields": [
                                    {
                                        "name": "ID_NF"
                                    },
                                    {
                                        "name": "ID_ITEM"
                                    },
                                    {
                                        "name": "COD_PROD"
                                    },
                                    {
                                        "name": "VALOR_UNIT"
                                    },
                                    {
                                        "name": "VALOR TOTAL"
                                    },
                                    {
                                        "name": "DESCONTO"
                                    },
                                    {
                                        "name": "VALOR VENDIDO"
                                    }
                                ]
                            },
                            "data": [
                                {
                                    "ID_NF": "6",
                                    "ID_ITEM": "1",
                                    "COD_PROD": "1",
                                    "VALOR_UNIT": "25,00",
                                    "VALOR TOTAL": "550,00",
                                    "DESCONTO": "15,00",
                                    "VALOR VENDIDO": "21,25"
                                },
                                {
                                    "ID_NF": "6",
                                    "ID_ITEM": "2",
                                    "COD_PROD": "3",
                                    "VALOR_UNIT": "15,00",
                                    "VALOR TOTAL": "375,00",
                                    "DESCONTO": "20,00",
                                    "VALOR VENDIDO": "12,00"
                                },
                                {
                                    "ID_NF": "4",
                                    "ID_ITEM": "3",
                                    "COD_PROD": "1",
                                    "VALOR_UNIT": "25,00",
                                    "VALOR TOTAL": "325,00",
                                    "DESCONTO": "5,00",
                                    "VALOR VENDIDO": "23,75"
                                },
                                {
                                    "ID_NF": "4",
                                    "ID_ITEM": "1",
                                    "COD_PROD": "5",
                                    "VALOR_UNIT": "30,00",
                                    "VALOR TOTAL": "300,00",
                                    "DESCONTO": "15,00",
                                    "VALOR VENDIDO": "25,50"
                                },
                                {
                                    "ID_NF": "7",
                                    "ID_ITEM": "4",
                                    "COD_PROD": "5",
                                    "VALOR_UNIT": "30,00",
                                    "VALOR TOTAL": "300,00",
                                    "DESCONTO": "1,00",
                                    "VALOR VENDIDO": "29,70"
                                },
                                {
                                    "ID_NF": "7",
                                    "ID_ITEM": "1",
                                    "COD_PROD": "1",
                                    "VALOR_UNIT": "25,00",
                                    "VALOR TOTAL": "250,00",
                                    "DESCONTO": "3,00",
                                    "VALOR VENDIDO": "24,25"
                                },
                                {
                                    "ID_NF": "1",
                                    "ID_ITEM": "1",
                                    "COD_PROD": "1",
                                    "VALOR_UNIT": "25,00",
                                    "VALOR TOTAL": "250,00",
                                    "DESCONTO": "5,00",
                                    "VALOR VENDIDO": "23,75"
                                },
                                {
                                    "ID_NF": "2",
                                    "ID_ITEM": "3",
                                    "COD_PROD": "5",
                                    "VALOR_UNIT": "30,00",
                                    "VALOR TOTAL": "210,00",
                                    "DESCONTO": "0,00",
                                    "VALOR VENDIDO": "30,00"
                                },
                                {
                                    "ID_NF": "4",
                                    "ID_ITEM": "4",
                                    "COD_PROD": "2",
                                    "VALOR_UNIT": "13,50",
                                    "VALOR TOTAL": "202,50",
                                    "DESCONTO": "5,00",
                                    "VALOR VENDIDO": "12,825"
                                },
                                {
                                    "ID_NF": "5",
                                    "ID_ITEM": "2",
                                    "COD_PROD": "5",
                                    "VALOR_UNIT": "30,00",
                                    "VALOR TOTAL": "180,00",
                                    "DESCONTO": "0,00",
                                    "VALOR VENDIDO": "30,00"
                                },
                                {
                                    "ID_NF": "3",
                                    "ID_ITEM": "3",
                                    "COD_PROD": "5",
                                    "VALOR_UNIT": "30,00",
                                    "VALOR TOTAL": "150,00",
                                    "DESCONTO": "0,00",
                                    "VALOR VENDIDO": "30,00"
                                },
                                {
                                    "ID_NF": "7",
                                    "ID_ITEM": "3",
                                    "COD_PROD": "3",
                                    "VALOR_UNIT": "15,00",
                                    "VALOR TOTAL": "150,00",
                                    "DESCONTO": "4,00",
                                    "VALOR VENDIDO": "14,40"
                                },
                                {
                                    "ID_NF": "7",
                                    "ID_ITEM": "2",
                                    "COD_PROD": "2",
                                    "VALOR_UNIT": "13,50",
                                    "VALOR TOTAL": "135,00",
                                    "DESCONTO": "4,00",
                                    "VALOR VENDIDO": "12,96"
                                },
                                {
                                    "ID_NF": "3",
                                    "ID_ITEM": "1",
                                    "COD_PROD": "1",
                                    "VALOR_UNIT": "25,00",
                                    "VALOR TOTAL": "125,00",
                                    "DESCONTO": "0,00",
                                    "VALOR VENDIDO": "25,00"
                                },
                                {
                                    "ID_NF": "4",
                                    "ID_ITEM": "2",
                                    "COD_PROD": "4",
                                    "VALOR_UNIT": "10,00",
                                    "VALOR TOTAL": "120,00",
                                    "DESCONTO": "5,00",
                                    "VALOR VENDIDO": "9,50"
                                },
                                {
                                    "ID_NF": "3",
                                    "ID_ITEM": "4",
                                    "COD_PROD": "2",
                                    "VALOR_UNIT": "13,50",
                                    "VALOR TOTAL": "94,50",
                                    "DESCONTO": "0,00",
                                    "VALOR VENDIDO": "13,50"
                                },
                                {
                                    "ID_NF": "2",
                                    "ID_ITEM": "1",
                                    "COD_PROD": "3",
                                    "VALOR_UNIT": "15,00",
                                    "VALOR TOTAL": "60,00",
                                    "DESCONTO": "0,00",
                                    "VALOR VENDIDO": "15,00"
                                },
                                {
                                    "ID_NF": "2",
                                    "ID_ITEM": "2",
                                    "COD_PROD": "4",
                                    "VALOR_UNIT": "10,00",
                                    "VALOR TOTAL": "50,00",
                                    "DESCONTO": "0,00",
                                    "VALOR VENDIDO": "10,00"
                                },
                                {
                                    "ID_NF": "5",
                                    "ID_ITEM": "1",
                                    "COD_PROD": "3",
                                    "VALOR_UNIT": "15,00",
                                    "VALOR TOTAL": "45,00",
                                    "DESCONTO": "0,00",
                                    "VALOR VENDIDO": "15,00"
                                },
                                {
                                    "ID_NF": "1",
                                    "ID_ITEM": "2",
                                    "COD_PROD": "2",
                                    "VALOR_UNIT": "13,50",
                                    "VALOR TOTAL": "40,50",
                                    "DESCONTO": "0,00",
                                    "VALOR VENDIDO": "13,50"
                                },
                                {
                                    "ID_NF": "3",
                                    "ID_ITEM": "2",
                                    "COD_PROD": "4",
                                    "VALOR_UNIT": "10,00",
                                    "VALOR TOTAL": "40,00",
                                    "DESCONTO": "0,00",
                                    "VALOR VENDIDO": "10,00"
                                },
                                {
                                    "ID_NF": "1",
                                    "ID_ITEM": "3",
                                    "COD_PROD": "3",
                                    "VALOR_UNIT": "15,00",
                                    "VALOR TOTAL": "30,00",
                                    "DESCONTO": "0,00",
                                    "VALOR VENDIDO": "15,00"
                                },
                                {
                                    "ID_NF": "1",
                                    "ID_ITEM": "5",
                                    "COD_PROD": "5",
                                    "VALOR_UNIT": "30,00",
                                    "VALOR TOTAL": "30,00",
                                    "DESCONTO": "0,00",
                                    "VALOR VENDIDO": "30,00"
                                },
                                {
                                    "ID_NF": "1",
                                    "ID_ITEM": "4",
                                    "COD_PROD": "4",
                                    "VALOR_UNIT": "10,00",
                                    "VALOR TOTAL": "10,00",
                                    "DESCONTO": "0,00",
                                    "VALOR VENDIDO": "10,00"
                                }
                            ]
                        },
                        "text/html": "<table><tr><th>ID_NF</th><th>ID_ITEM</th><th>COD_PROD</th><th>VALOR_UNIT</th><th>VALOR TOTAL</th><th>DESCONTO</th><th>VALOR VENDIDO</th></tr><tr><td>6</td><td>1</td><td>1</td><td>25,00</td><td>550,00</td><td>15,00</td><td>21,25</td></tr><tr><td>6</td><td>2</td><td>3</td><td>15,00</td><td>375,00</td><td>20,00</td><td>12,00</td></tr><tr><td>4</td><td>3</td><td>1</td><td>25,00</td><td>325,00</td><td>5,00</td><td>23,75</td></tr><tr><td>4</td><td>1</td><td>5</td><td>30,00</td><td>300,00</td><td>15,00</td><td>25,50</td></tr><tr><td>7</td><td>4</td><td>5</td><td>30,00</td><td>300,00</td><td>1,00</td><td>29,70</td></tr><tr><td>7</td><td>1</td><td>1</td><td>25,00</td><td>250,00</td><td>3,00</td><td>24,25</td></tr><tr><td>1</td><td>1</td><td>1</td><td>25,00</td><td>250,00</td><td>5,00</td><td>23,75</td></tr><tr><td>2</td><td>3</td><td>5</td><td>30,00</td><td>210,00</td><td>0,00</td><td>30,00</td></tr><tr><td>4</td><td>4</td><td>2</td><td>13,50</td><td>202,50</td><td>5,00</td><td>12,825</td></tr><tr><td>5</td><td>2</td><td>5</td><td>30,00</td><td>180,00</td><td>0,00</td><td>30,00</td></tr><tr><td>3</td><td>3</td><td>5</td><td>30,00</td><td>150,00</td><td>0,00</td><td>30,00</td></tr><tr><td>7</td><td>3</td><td>3</td><td>15,00</td><td>150,00</td><td>4,00</td><td>14,40</td></tr><tr><td>7</td><td>2</td><td>2</td><td>13,50</td><td>135,00</td><td>4,00</td><td>12,96</td></tr><tr><td>3</td><td>1</td><td>1</td><td>25,00</td><td>125,00</td><td>0,00</td><td>25,00</td></tr><tr><td>4</td><td>2</td><td>4</td><td>10,00</td><td>120,00</td><td>5,00</td><td>9,50</td></tr><tr><td>3</td><td>4</td><td>2</td><td>13,50</td><td>94,50</td><td>0,00</td><td>13,50</td></tr><tr><td>2</td><td>1</td><td>3</td><td>15,00</td><td>60,00</td><td>0,00</td><td>15,00</td></tr><tr><td>2</td><td>2</td><td>4</td><td>10,00</td><td>50,00</td><td>0,00</td><td>10,00</td></tr><tr><td>5</td><td>1</td><td>3</td><td>15,00</td><td>45,00</td><td>0,00</td><td>15,00</td></tr><tr><td>1</td><td>2</td><td>2</td><td>13,50</td><td>40,50</td><td>0,00</td><td>13,50</td></tr><tr><td>3</td><td>2</td><td>4</td><td>10,00</td><td>40,00</td><td>0,00</td><td>10,00</td></tr><tr><td>1</td><td>3</td><td>3</td><td>15,00</td><td>30,00</td><td>0,00</td><td>15,00</td></tr><tr><td>1</td><td>5</td><td>5</td><td>30,00</td><td>30,00</td><td>0,00</td><td>30,00</td></tr><tr><td>1</td><td>4</td><td>4</td><td>10,00</td><td>10,00</td><td>0,00</td><td>10,00</td></tr></table>"
                    },
                    "metadata": {}
                }
            ],
            "execution_count": 47
        },
        {
            "cell_type": "markdown",
            "source": [
                "e) Pesquise o valor total das NF e ordene o resultado do maior valor para o menor. As colunas \r\n",
                "presentes no resultado da consulta são: ID_NF, VALOR_TOTAL. OBS: O VALOR_TOTAL é obƟ do pela \r\n",
                "fórmula: ∑ QUANTIDADE * VALOR_UNIT. Agrupe o resultado da consulta por ID_NF. "
            ],
            "metadata": {
                "language": "",
                "azdata_cell_guid": "77665754-97eb-49bf-b80a-bb89cef68592"
            },
            "attachments": {}
        },
        {
            "cell_type": "code",
            "source": [
                "SELECT   ID_NF\r\n",
                "        ,SUM(QUANTIDADE * VALOR_UNIT) AS 'VALOR TOTAL'\r\n",
                "FROM atividade.dbo.vendas\r\n",
                "GROUP BY ID_NF\r\n",
                "ORDER BY sum(QUANTIDADE * VALOR_UNIT) DESC\r\n",
                "GO"
            ],
            "metadata": {
                "language": "sql",
                "azdata_cell_guid": "d5cd076c-d114-4027-a571-5a635d2649d3"
            },
            "outputs": [
                {
                    "output_type": "display_data",
                    "data": {
                        "text/html": "(7 rows affected)"
                    },
                    "metadata": {}
                },
                {
                    "output_type": "display_data",
                    "data": {
                        "text/html": "Total execution time: 00:00:00.004"
                    },
                    "metadata": {}
                },
                {
                    "output_type": "execute_result",
                    "execution_count": 49,
                    "data": {
                        "application/vnd.dataresource+json": {
                            "schema": {
                                "fields": [
                                    {
                                        "name": "ID_NF"
                                    },
                                    {
                                        "name": "VALOR TOTAL"
                                    }
                                ]
                            },
                            "data": [
                                {
                                    "ID_NF": "4",
                                    "VALOR TOTAL": "947,50"
                                },
                                {
                                    "ID_NF": "6",
                                    "VALOR TOTAL": "925,00"
                                },
                                {
                                    "ID_NF": "7",
                                    "VALOR TOTAL": "835,00"
                                },
                                {
                                    "ID_NF": "3",
                                    "VALOR TOTAL": "409,50"
                                },
                                {
                                    "ID_NF": "1",
                                    "VALOR TOTAL": "360,50"
                                },
                                {
                                    "ID_NF": "2",
                                    "VALOR TOTAL": "320,00"
                                },
                                {
                                    "ID_NF": "5",
                                    "VALOR TOTAL": "225,00"
                                }
                            ]
                        },
                        "text/html": "<table><tr><th>ID_NF</th><th>VALOR TOTAL</th></tr><tr><td>4</td><td>947,50</td></tr><tr><td>6</td><td>925,00</td></tr><tr><td>7</td><td>835,00</td></tr><tr><td>3</td><td>409,50</td></tr><tr><td>1</td><td>360,50</td></tr><tr><td>2</td><td>320,00</td></tr><tr><td>5</td><td>225,00</td></tr></table>"
                    },
                    "metadata": {}
                }
            ],
            "execution_count": 49
        },
        {
            "cell_type": "markdown",
            "source": [
                "f) Pesquise o valor vendido das NF e ordene o resultado do maior valor para o menor. As colunas \n",
                "\n",
                "presentes no resultado da consulta são: ID\\_NF, VALOR\\_VENDIDO. OBS: O VALOR\\_TOTAL é obƟ do \n",
                "\n",
                "pela fórmula: ∑ QUANTIDADE \\* VALOR\\_UNIT. O VALOR\\_VENDIDO é igual a ∑ VALOR\\_UNIT - \n",
                "\n",
                "(VALOR\\_UNIT\\*(DESCONTO/100)). Agrupe o resultado da consulta por ID\\_NF."
            ],
            "metadata": {
                "language": "sql",
                "azdata_cell_guid": "a7df69ba-cc2b-4f96-ab25-72ae086bf1f4"
            },
            "attachments": {}
        },
        {
            "cell_type": "code",
            "source": [
                "SELECT   ID_NF\r\n",
                "        ,sum(QUANTIDADE * (VALOR_UNIT - (VALOR_UNIT * (DESCONTO/100)))) as 'VALOR VENDIDO'\r\n",
                "FROM atividade.dbo.vendas\r\n",
                "GROUP BY ID_NF\r\n",
                "ORDER BY sum(QUANTIDADE * (VALOR_UNIT - (VALOR_UNIT * (DESCONTO/100)))) DESC\r\n",
                "GO"
            ],
            "metadata": {
                "language": "sql",
                "azdata_cell_guid": "6e9a6c40-e9c3-4dc8-88dc-ea898c83d059"
            },
            "outputs": [
                {
                    "output_type": "display_data",
                    "data": {
                        "text/html": "(7 rows affected)"
                    },
                    "metadata": {}
                },
                {
                    "output_type": "display_data",
                    "data": {
                        "text/html": "Total execution time: 00:00:00.008"
                    },
                    "metadata": {}
                },
                {
                    "output_type": "execute_result",
                    "execution_count": 53,
                    "data": {
                        "application/vnd.dataresource+json": {
                            "schema": {
                                "fields": [
                                    {
                                        "name": "ID_NF"
                                    },
                                    {
                                        "name": "VALOR VENDIDO"
                                    }
                                ]
                            },
                            "data": [
                                {
                                    "ID_NF": "4",
                                    "VALOR VENDIDO": "870,125"
                                },
                                {
                                    "ID_NF": "7",
                                    "VALOR VENDIDO": "813,10"
                                },
                                {
                                    "ID_NF": "6",
                                    "VALOR VENDIDO": "767,50"
                                },
                                {
                                    "ID_NF": "3",
                                    "VALOR VENDIDO": "409,50"
                                },
                                {
                                    "ID_NF": "1",
                                    "VALOR VENDIDO": "348,00"
                                },
                                {
                                    "ID_NF": "2",
                                    "VALOR VENDIDO": "320,00"
                                },
                                {
                                    "ID_NF": "5",
                                    "VALOR VENDIDO": "225,00"
                                }
                            ]
                        },
                        "text/html": "<table><tr><th>ID_NF</th><th>VALOR VENDIDO</th></tr><tr><td>4</td><td>870,125</td></tr><tr><td>7</td><td>813,10</td></tr><tr><td>6</td><td>767,50</td></tr><tr><td>3</td><td>409,50</td></tr><tr><td>1</td><td>348,00</td></tr><tr><td>2</td><td>320,00</td></tr><tr><td>5</td><td>225,00</td></tr></table>"
                    },
                    "metadata": {}
                }
            ],
            "execution_count": 53
        },
        {
            "cell_type": "markdown",
            "source": [
                "g) Consulte o produto que mais vendeu no geral. As colunas presentes no resultado da consulta são: \n",
                "\n",
                "COD\\_PROD, QUANTIDADE. Agrupe o resultado da consulta por COD\\_PROD."
            ],
            "metadata": {
                "language": "sql",
                "azdata_cell_guid": "691d5054-515f-4f44-9e6c-471dad70439a"
            },
            "attachments": {}
        },
        {
            "cell_type": "code",
            "source": [
                "SELECT  COD_PROD\r\n",
                "        ,SUM(QUANTIDADE) AS 'QUANTIDADE'\r\n",
                "FROM    atividade.dbo.vendas\r\n",
                "GROUP BY    COD_PROD\r\n",
                "ORDER BY    SUM(QUANTIDADE) DESC\r\n",
                "GO"
            ],
            "metadata": {
                "language": "sql",
                "azdata_cell_guid": "592b8ca2-1beb-4906-b088-7b5a5c0b17e6"
            },
            "outputs": [
                {
                    "output_type": "display_data",
                    "data": {
                        "text/html": "(5 rows affected)"
                    },
                    "metadata": {}
                },
                {
                    "output_type": "display_data",
                    "data": {
                        "text/html": "Total execution time: 00:00:00.007"
                    },
                    "metadata": {}
                },
                {
                    "output_type": "execute_result",
                    "execution_count": 55,
                    "data": {
                        "application/vnd.dataresource+json": {
                            "schema": {
                                "fields": [
                                    {
                                        "name": "COD_PROD"
                                    },
                                    {
                                        "name": "QUANTIDADE"
                                    }
                                ]
                            },
                            "data": [
                                {
                                    "COD_PROD": "1",
                                    "QUANTIDADE": "60"
                                },
                                {
                                    "COD_PROD": "3",
                                    "QUANTIDADE": "44"
                                },
                                {
                                    "COD_PROD": "5",
                                    "QUANTIDADE": "39"
                                },
                                {
                                    "COD_PROD": "2",
                                    "QUANTIDADE": "35"
                                },
                                {
                                    "COD_PROD": "4",
                                    "QUANTIDADE": "22"
                                }
                            ]
                        },
                        "text/html": "<table><tr><th>COD_PROD</th><th>QUANTIDADE</th></tr><tr><td>1</td><td>60</td></tr><tr><td>3</td><td>44</td></tr><tr><td>5</td><td>39</td></tr><tr><td>2</td><td>35</td></tr><tr><td>4</td><td>22</td></tr></table>"
                    },
                    "metadata": {}
                }
            ],
            "execution_count": 55
        },
        {
            "cell_type": "markdown",
            "source": [
                "h) Consulte as NF que foram vendidas mais de 10 unidades de pelo menos um produto. As colunas \n",
                "\n",
                "presentes no resultado da consulta são: ID\\_NF, COD\\_PROD, QUANTIDADE. Agrupe o resultado da \n",
                "\n",
                "consulta por ID\\_NF, COD\\_PROD."
            ],
            "metadata": {
                "language": "sql",
                "azdata_cell_guid": "f1238c6f-29b6-4a71-b38e-47a5c6d33b91"
            },
            "attachments": {}
        },
        {
            "cell_type": "code",
            "source": [
                "SELECT   ID_NF\r\n",
                "        ,COD_PROD\r\n",
                "        ,SUM(QUANTIDADE) AS 'QUANTIDADE'\r\n",
                "FROM atividade.dbo.vendas\r\n",
                "WHERE quantidade > 10\r\n",
                "GROUP BY ID_NF\r\n",
                "        ,COD_PROD\r\n",
                "GO "
            ],
            "metadata": {
                "language": "sql",
                "azdata_cell_guid": "b5895492-e758-4a6a-8c98-5b048179fe34"
            },
            "outputs": [
                {
                    "output_type": "display_data",
                    "data": {
                        "text/html": "(5 rows affected)"
                    },
                    "metadata": {}
                },
                {
                    "output_type": "display_data",
                    "data": {
                        "text/html": "Total execution time: 00:00:00.005"
                    },
                    "metadata": {}
                },
                {
                    "output_type": "execute_result",
                    "execution_count": 60,
                    "data": {
                        "application/vnd.dataresource+json": {
                            "schema": {
                                "fields": [
                                    {
                                        "name": "ID_NF"
                                    },
                                    {
                                        "name": "COD_PROD"
                                    },
                                    {
                                        "name": "QUANTIDADE"
                                    }
                                ]
                            },
                            "data": [
                                {
                                    "ID_NF": "4",
                                    "COD_PROD": "1",
                                    "QUANTIDADE": "13"
                                },
                                {
                                    "ID_NF": "6",
                                    "COD_PROD": "1",
                                    "QUANTIDADE": "22"
                                },
                                {
                                    "ID_NF": "4",
                                    "COD_PROD": "2",
                                    "QUANTIDADE": "15"
                                },
                                {
                                    "ID_NF": "6",
                                    "COD_PROD": "3",
                                    "QUANTIDADE": "25"
                                },
                                {
                                    "ID_NF": "4",
                                    "COD_PROD": "4",
                                    "QUANTIDADE": "12"
                                }
                            ]
                        },
                        "text/html": "<table><tr><th>ID_NF</th><th>COD_PROD</th><th>QUANTIDADE</th></tr><tr><td>4</td><td>1</td><td>13</td></tr><tr><td>6</td><td>1</td><td>22</td></tr><tr><td>4</td><td>2</td><td>15</td></tr><tr><td>6</td><td>3</td><td>25</td></tr><tr><td>4</td><td>4</td><td>12</td></tr></table>"
                    },
                    "metadata": {}
                }
            ],
            "execution_count": 60
        },
        {
            "cell_type": "markdown",
            "source": [
                "i) Pesquise o valor total das NF, onde esse valor seja maior que 500, e ordene o resultado do maior \n",
                "\n",
                "valor para o menor. As colunas presentes no resultado da consulta são: ID\\_NF, VALOR\\_TOT. OBS: O \n",
                "\n",
                "VALOR\\_TOTAL é obƟ do pela fórmula: ∑ QUANTIDADE \\* VALOR\\_UNIT. Agrupe o resultado da consulta \n",
                "\n",
                "por ID\\_NF."
            ],
            "metadata": {
                "azdata_cell_guid": "d2faa5f6-323a-46fa-af73-44b0d7fc7099"
            },
            "attachments": {}
        },
        {
            "cell_type": "code",
            "source": [
                "SELECT   ID_NF\r\n",
                "        ,SUM(QUANTIDADE * VALOR_UNIT) AS 'VALOR_TOTAL'\r\n",
                "FROM atividade.dbo.vendas\r\n",
                "WHERE (QUANTIDADE * VALOR_UNIT) > 500\r\n",
                "GROUP BY ID_NF\r\n",
                "ORDER BY SUM(QUANTIDADE * VALOR_UNIT) DESC\r\n",
                "GO"
            ],
            "metadata": {
                "azdata_cell_guid": "a2971884-48d9-42a6-b64d-9a3133cf9992",
                "language": "sql"
            },
            "outputs": [
                {
                    "output_type": "display_data",
                    "data": {
                        "text/html": "(1 row affected)"
                    },
                    "metadata": {}
                },
                {
                    "output_type": "display_data",
                    "data": {
                        "text/html": "Total execution time: 00:00:00.004"
                    },
                    "metadata": {}
                },
                {
                    "output_type": "execute_result",
                    "execution_count": 66,
                    "data": {
                        "application/vnd.dataresource+json": {
                            "schema": {
                                "fields": [
                                    {
                                        "name": "ID_NF"
                                    },
                                    {
                                        "name": "VALOR_TOTAL"
                                    }
                                ]
                            },
                            "data": [
                                {
                                    "ID_NF": "6",
                                    "VALOR_TOTAL": "550,00"
                                }
                            ]
                        },
                        "text/html": "<table><tr><th>ID_NF</th><th>VALOR_TOTAL</th></tr><tr><td>6</td><td>550,00</td></tr></table>"
                    },
                    "metadata": {}
                }
            ],
            "execution_count": 66
        },
        {
            "cell_type": "markdown",
            "source": [
                "j) Qual o valor médio dos descontos dados por produto. As colunas presentes no resultado da \n",
                "\n",
                "consulta são: COD\\_PROD, MEDIA. Agrupe o resultado da consulta por COD\\_PROD."
            ],
            "metadata": {
                "language": "sql",
                "azdata_cell_guid": "8792c2be-5fd5-4954-a602-bbed4005d9a4"
            },
            "attachments": {}
        },
        {
            "cell_type": "code",
            "source": [
                "SELECT  COD_PROD\r\n",
                "        ,AVG(DESCONTO) AS 'MÉDIA DE DESCONTO'\r\n",
                "from    atividade.dbo.vendas\r\n",
                "GROUP BY COD_PROD\r\n",
                "ORDER BY AVG(DESCONTO) DESC\r\n",
                "GO"
            ],
            "metadata": {
                "language": "sql",
                "azdata_cell_guid": "9d987532-be48-43d1-8e42-0adba561899e"
            },
            "outputs": [
                {
                    "output_type": "display_data",
                    "data": {
                        "text/html": "(5 rows affected)"
                    },
                    "metadata": {}
                },
                {
                    "output_type": "display_data",
                    "data": {
                        "text/html": "Total execution time: 00:00:00.004"
                    },
                    "metadata": {}
                },
                {
                    "output_type": "execute_result",
                    "execution_count": 67,
                    "data": {
                        "application/vnd.dataresource+json": {
                            "schema": {
                                "fields": [
                                    {
                                        "name": "COD_PROD"
                                    },
                                    {
                                        "name": "MÉDIA DE DESCONTO"
                                    }
                                ]
                            },
                            "data": [
                                {
                                    "COD_PROD": "1",
                                    "MÉDIA DE DESCONTO": "5,60"
                                },
                                {
                                    "COD_PROD": "3",
                                    "MÉDIA DE DESCONTO": "4,80"
                                },
                                {
                                    "COD_PROD": "5",
                                    "MÉDIA DE DESCONTO": "2,6666"
                                },
                                {
                                    "COD_PROD": "2",
                                    "MÉDIA DE DESCONTO": "2,25"
                                },
                                {
                                    "COD_PROD": "4",
                                    "MÉDIA DE DESCONTO": "1,25"
                                }
                            ]
                        },
                        "text/html": "<table><tr><th>COD_PROD</th><th>MÉDIA DE DESCONTO</th></tr><tr><td>1</td><td>5,60</td></tr><tr><td>3</td><td>4,80</td></tr><tr><td>5</td><td>2,6666</td></tr><tr><td>2</td><td>2,25</td></tr><tr><td>4</td><td>1,25</td></tr></table>"
                    },
                    "metadata": {}
                }
            ],
            "execution_count": 67
        },
        {
            "cell_type": "markdown",
            "source": [
                "k) Qual o menor, maior e o valor médio dos descontos dados por produto. As colunas presentes no \n",
                "\n",
                "resultado da consulta são: COD\\_PROD, MENOR, MAIOR, MEDIA. Agrupe o resultado da consulta por \n",
                "\n",
                "COD\\_PROD."
            ],
            "metadata": {
                "language": "sql",
                "azdata_cell_guid": "39c7becf-7bda-4425-91df-aac42cef64c4"
            },
            "attachments": {}
        },
        {
            "cell_type": "code",
            "source": [
                "SELECT   COD_PROD\r\n",
                "        ,MIN(DESCONTO) AS 'MENOS DESCONTO'\r\n",
                "        ,MAX(DESCONTO) AS 'MAIOR DESCONTO'\r\n",
                "        ,AVG(DESCONTO) AS 'MÉDIA DE DESCONTO'\r\n",
                "FROM atividade.dbo.vendas\r\n",
                "GROUP BY COD_PROD\r\n",
                "GO"
            ],
            "metadata": {
                "language": "sql",
                "azdata_cell_guid": "8d14db73-42b6-4d6e-9692-5d05723d9db9"
            },
            "outputs": [
                {
                    "output_type": "display_data",
                    "data": {
                        "text/html": "(5 rows affected)"
                    },
                    "metadata": {}
                },
                {
                    "output_type": "display_data",
                    "data": {
                        "text/html": "Total execution time: 00:00:00.005"
                    },
                    "metadata": {}
                },
                {
                    "output_type": "execute_result",
                    "execution_count": 68,
                    "data": {
                        "application/vnd.dataresource+json": {
                            "schema": {
                                "fields": [
                                    {
                                        "name": "COD_PROD"
                                    },
                                    {
                                        "name": "MENOS DESCONTO"
                                    },
                                    {
                                        "name": "MAIOR DESCONTO"
                                    },
                                    {
                                        "name": "MÉDIA DE DESCONTO"
                                    }
                                ]
                            },
                            "data": [
                                {
                                    "COD_PROD": "1",
                                    "MENOS DESCONTO": "0,00",
                                    "MAIOR DESCONTO": "15,00",
                                    "MÉDIA DE DESCONTO": "5,60"
                                },
                                {
                                    "COD_PROD": "2",
                                    "MENOS DESCONTO": "0,00",
                                    "MAIOR DESCONTO": "5,00",
                                    "MÉDIA DE DESCONTO": "2,25"
                                },
                                {
                                    "COD_PROD": "3",
                                    "MENOS DESCONTO": "0,00",
                                    "MAIOR DESCONTO": "20,00",
                                    "MÉDIA DE DESCONTO": "4,80"
                                },
                                {
                                    "COD_PROD": "4",
                                    "MENOS DESCONTO": "0,00",
                                    "MAIOR DESCONTO": "5,00",
                                    "MÉDIA DE DESCONTO": "1,25"
                                },
                                {
                                    "COD_PROD": "5",
                                    "MENOS DESCONTO": "0,00",
                                    "MAIOR DESCONTO": "15,00",
                                    "MÉDIA DE DESCONTO": "2,6666"
                                }
                            ]
                        },
                        "text/html": "<table><tr><th>COD_PROD</th><th>MENOS DESCONTO</th><th>MAIOR DESCONTO</th><th>MÉDIA DE DESCONTO</th></tr><tr><td>1</td><td>0,00</td><td>15,00</td><td>5,60</td></tr><tr><td>2</td><td>0,00</td><td>5,00</td><td>2,25</td></tr><tr><td>3</td><td>0,00</td><td>20,00</td><td>4,80</td></tr><tr><td>4</td><td>0,00</td><td>5,00</td><td>1,25</td></tr><tr><td>5</td><td>0,00</td><td>15,00</td><td>2,6666</td></tr></table>"
                    },
                    "metadata": {}
                }
            ],
            "execution_count": 68
        },
        {
            "cell_type": "markdown",
            "source": [
                "l) Quais as NF que possuem mais de 3 itens vendidos. As colunas presentes no resultado da consulta \n",
                "\n",
                "são: ID\\_NF, QTD\\_ITENS. \n",
                "\n",
                "OBS: Não está relacionado a quanƟ dade vendida do item e sim a quanƟ dade de itens por nota \n",
                "\n",
                "fiscal. Agrupe o resultado da consulta por ID\\_NF."
            ],
            "metadata": {
                "language": "sql",
                "azdata_cell_guid": "f2a25bcc-d6af-4030-82c1-f74ea9d2b1c3"
            },
            "attachments": {}
        },
        {
            "cell_type": "code",
            "source": [
                "SELECT  TOP(3) ID_NF\r\n",
                "        ,SUM(QUANTIDADE) AS 'QUANTIDADE DE ITENS'\r\n",
                "FROM atividade.dbo.vendas\r\n",
                "GROUP BY ID_NF\r\n",
                "ORDER BY SUM(QUANTIDADE) DESC\r\n",
                "GO"
            ],
            "metadata": {
                "language": "sql",
                "azdata_cell_guid": "07f96ad6-d8f5-4d2a-8991-4209c9bbac90"
            },
            "outputs": [
                {
                    "output_type": "display_data",
                    "data": {
                        "text/html": "(3 rows affected)"
                    },
                    "metadata": {}
                },
                {
                    "output_type": "display_data",
                    "data": {
                        "text/html": "Total execution time: 00:00:00.007"
                    },
                    "metadata": {}
                },
                {
                    "output_type": "execute_result",
                    "execution_count": 72,
                    "data": {
                        "application/vnd.dataresource+json": {
                            "schema": {
                                "fields": [
                                    {
                                        "name": "ID_NF"
                                    },
                                    {
                                        "name": "QUANTIDADE DE ITENS"
                                    }
                                ]
                            },
                            "data": [
                                {
                                    "ID_NF": "4",
                                    "QUANTIDADE DE ITENS": "50"
                                },
                                {
                                    "ID_NF": "6",
                                    "QUANTIDADE DE ITENS": "47"
                                },
                                {
                                    "ID_NF": "7",
                                    "QUANTIDADE DE ITENS": "40"
                                }
                            ]
                        },
                        "text/html": "<table><tr><th>ID_NF</th><th>QUANTIDADE DE ITENS</th></tr><tr><td>4</td><td>50</td></tr><tr><td>6</td><td>47</td></tr><tr><td>7</td><td>40</td></tr></table>"
                    },
                    "metadata": {}
                }
            ],
            "execution_count": 72
        }
    ]
}